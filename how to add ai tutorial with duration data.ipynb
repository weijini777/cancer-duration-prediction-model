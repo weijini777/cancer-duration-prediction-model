{
 "cells": [
  {
   "cell_type": "code",
   "execution_count": 2,
   "id": "92dc752b",
   "metadata": {},
   "outputs": [],
   "source": [
    "import numpy as np # Linear algebra\n",
    "# Data processing, CSV file I/O (e.g. pd.read_csv)\n",
    "import pandas as pd\n",
    "from pandas import DataFrame\n",
    "import xml.etree.ElementTree as ET # Reading xml files\n",
    "# For plotting\n",
    "import matplotlib.pyplot as plt\n",
    "import pydot\n",
    "import pydotplus\n",
    "import graphviz\n",
    "from keras.utils.vis_utils import plot_model\n",
    "from keras.utils import plot_model\n",
    "from sklearn.manifold import TSNE\n",
    "# For Modelling\n",
    "import tensorflow as tf\n",
    "from tensorflow.keras import layers, models, preprocessing, callbacks, optimizers\n",
    "from tensorflow.keras.models import Model\n",
    "from tensorflow.keras.layers import Dense, Embedding, Input, Add\n",
    "from tensorflow.keras.layers import LSTM, Bidirectional, GlobalMaxPool1D, Dropout\n",
    "from tensorflow.keras.preprocessing import text, sequence\n",
    "from tensorflow.keras.callbacks import EarlyStopping, ModelCheckpoint\n",
    "from tensorflow.keras.optimizers import Adam\n",
    "from tensorflow.keras.layers import Conv2D, MaxPooling2D, BatchNormalization\n",
    "from tensorflow.keras.layers import concatenate\n",
    "from keras.metrics import categorical_accuracy\n",
    "# For Pre-processing\n",
    "import string\n",
    "from string import digits\n",
    "import nltk\n",
    "from nltk.corpus import stopwords\n",
    "from nltk.stem import WordNetLemmatizer\n",
    "from tqdm import tqdm\n",
    "import re\n",
    "# Other useful modules\n",
    "import h5py\n",
    "from statistics import mode\n",
    "import os\n",
    "import datetime\n",
    "import warnings\n",
    "from sklearn import linear_model\n",
    "from sklearn.model_selection import train_test_split\n",
    "from sklearn.metrics import mean_squared_error, r2_score\n",
    "warnings.filterwarnings('ignore')"
   ]
  },
  {
   "cell_type": "code",
   "execution_count": 3,
   "id": "c3686f83",
   "metadata": {},
   "outputs": [
    {
     "name": "stdout",
     "output_type": "stream",
     "text": [
      "\"NCT00041080\";\"\n",
      " Randomized phase III trial to compare the effectiveness of tamoxifen with that of thalidomide in treating women who have recurrent ovarian epithelial cancer, fallopian tube cancer, or primary peritoneal cancer. Estrogen can stimulate the growth of some types of cancer cells. Hormone therapy using tamoxifen may fight cancer by blocking the uptake of estrogen. Thalidomide may stop the growth of cancer by stopping blood flow to the tumor. It is not yet known whether thalidomide is more effective than tamoxifen in treating ovarian epithelial cancer, fallopian tube cancer, or primary peritoneal cancer. \";\"Tamoxifen Compared With Thalidomide in Treating Women With Ovarian Epithelial Cancer, Fallopian Tube Cancer, or Primary Peritoneal Cancer\";\"Parallel Assignment\";\"February 2003\";\"January 2011\"\n"
     ]
    }
   ],
   "source": [
    "def csv_row(xml_file):\n",
    "    tree = ET.parse(xml_file)\n",
    "    root = tree.getroot()\n",
    "    nct_text = \"\"\n",
    "    sum_text = \"\"\n",
    "    model_text = \"\"\n",
    "    ph_text = \"\"\n",
    "    title_text = \"\"\n",
    "    # Only iterates through Phase 2 and 3 studies\n",
    "    for ph in root.iter('phase'):\n",
    "        ph_text = ph.text\n",
    "        if (ph_text == \"Phase 2\" or ph_text == \"Phase 3\" or ph_text == \"Phase 1\"):\n",
    "            #This bit finds all roots with nct_id which is a sub_root to id_info\n",
    "            for nct in root.findall('id_info'):\n",
    "                nctId_text = nct.find('nct_id').text\n",
    "                nct_text =nctId_text\n",
    "            # This bit finds the brief summary text\n",
    "            for s in root.findall('brief_summary'):\n",
    "                summary_text = s.find('textblock').text\n",
    "                sum_text= summary_text\n",
    "                sum_text = sum_text.replace('\\r\\n', '') # Replaces newline with a whitespace\n",
    "                sum_text = re.sub(' +',' ',sum_text) # Compresses multiple whitespaces to only one\n",
    "                #print(\"Summary Text:\", sum_text)\n",
    "            # Get's the official title for the study\n",
    "            for t in root.iter('brief_title'):\n",
    "                title_text = t.text\n",
    "            # This get's the type of intervention_model\n",
    "            for y in root.iter('intervention_model'):\n",
    "                model_text = y.text\n",
    "            for s in root.iter('start_date'):\n",
    "                start_date = s.text\n",
    "            for c in root.iter('completion_date'):\n",
    "                \n",
    "                completion_date = c.text\n",
    "    total_text = \"\\\"\" + nct_text + \"\\\"\" + \";\" + \"\\\"\" + sum_text + \"\\\"\" + \";\"  + \"\\\"\" + title_text + \"\\\"\" + \";\"  +  \"\\\"\" + model_text + \"\\\"\"+ \";\"  + \"\\\"\" + start_date + \"\\\"\"+ \";\"  + \"\\\"\" + completion_date + \"\\\"\"\n",
    "    # This functions returns a text with Nct_Id, brief_summary, title and type of intervention model on the form we intended\n",
    "    return total_text\n",
    "print(csv_row(\"Downloads\\\\search_result (1)\\\\NCT00041080.xml\"))"
   ]
  },
  {
   "cell_type": "code",
   "execution_count": 5,
   "id": "b8ae0715",
   "metadata": {},
   "outputs": [
    {
     "ename": "UnboundLocalError",
     "evalue": "local variable 'completion_date' referenced before assignment",
     "output_type": "error",
     "traceback": [
      "\u001b[1;31m---------------------------------------------------------------------------\u001b[0m",
      "\u001b[1;31mUnboundLocalError\u001b[0m                         Traceback (most recent call last)",
      "\u001b[1;32m~\\AppData\\Local\\Temp\\ipykernel_13572\\620522228.py\u001b[0m in \u001b[0;36m<module>\u001b[1;34m\u001b[0m\n\u001b[0;32m      4\u001b[0m         \u001b[1;32mfor\u001b[0m \u001b[0mfilename\u001b[0m \u001b[1;32min\u001b[0m \u001b[0mfiles\u001b[0m\u001b[1;33m:\u001b[0m\u001b[1;33m\u001b[0m\u001b[1;33m\u001b[0m\u001b[0m\n\u001b[0;32m      5\u001b[0m             \u001b[0mname\u001b[0m \u001b[1;33m=\u001b[0m \u001b[0mos\u001b[0m\u001b[1;33m.\u001b[0m\u001b[0mpath\u001b[0m\u001b[1;33m.\u001b[0m\u001b[0mjoin\u001b[0m\u001b[1;33m(\u001b[0m\u001b[0mroot\u001b[0m\u001b[1;33m,\u001b[0m \u001b[0mfilename\u001b[0m\u001b[1;33m)\u001b[0m\u001b[1;33m\u001b[0m\u001b[1;33m\u001b[0m\u001b[0m\n\u001b[1;32m----> 6\u001b[1;33m             \u001b[0mcsvfile\u001b[0m\u001b[1;33m.\u001b[0m\u001b[0mwrite\u001b[0m\u001b[1;33m(\u001b[0m\u001b[0mcsv_row\u001b[0m\u001b[1;33m(\u001b[0m\u001b[0mname\u001b[0m\u001b[1;33m)\u001b[0m\u001b[1;33m)\u001b[0m \u001b[1;31m#Writes total_text into a row in to train_data.csv\u001b[0m\u001b[1;33m\u001b[0m\u001b[1;33m\u001b[0m\u001b[0m\n\u001b[0m\u001b[0;32m      7\u001b[0m             \u001b[0mcsvfile\u001b[0m\u001b[1;33m.\u001b[0m\u001b[0mwrite\u001b[0m\u001b[1;33m(\u001b[0m\u001b[1;34m\"\\n\"\u001b[0m\u001b[1;33m)\u001b[0m \u001b[1;31m# Skips to next line and do the same\u001b[0m\u001b[1;33m\u001b[0m\u001b[1;33m\u001b[0m\u001b[0m\n",
      "\u001b[1;32m~\\AppData\\Local\\Temp\\ipykernel_13572\\3309268321.py\u001b[0m in \u001b[0;36mcsv_row\u001b[1;34m(xml_file)\u001b[0m\n\u001b[0;32m     32\u001b[0m             \u001b[1;32mfor\u001b[0m \u001b[0mc\u001b[0m \u001b[1;32min\u001b[0m \u001b[0mroot\u001b[0m\u001b[1;33m.\u001b[0m\u001b[0miter\u001b[0m\u001b[1;33m(\u001b[0m\u001b[1;34m'completion_date'\u001b[0m\u001b[1;33m)\u001b[0m\u001b[1;33m:\u001b[0m\u001b[1;33m\u001b[0m\u001b[1;33m\u001b[0m\u001b[0m\n\u001b[0;32m     33\u001b[0m                 \u001b[0mcompletion_date\u001b[0m \u001b[1;33m=\u001b[0m \u001b[0mc\u001b[0m\u001b[1;33m.\u001b[0m\u001b[0mtext\u001b[0m\u001b[1;33m\u001b[0m\u001b[1;33m\u001b[0m\u001b[0m\n\u001b[1;32m---> 34\u001b[1;33m     \u001b[0mtotal_text\u001b[0m \u001b[1;33m=\u001b[0m \u001b[1;34m\"\\\"\"\u001b[0m \u001b[1;33m+\u001b[0m \u001b[0mnct_text\u001b[0m \u001b[1;33m+\u001b[0m \u001b[1;34m\"\\\"\"\u001b[0m \u001b[1;33m+\u001b[0m \u001b[1;34m\";\"\u001b[0m \u001b[1;33m+\u001b[0m \u001b[1;34m\"\\\"\"\u001b[0m \u001b[1;33m+\u001b[0m \u001b[0msum_text\u001b[0m \u001b[1;33m+\u001b[0m \u001b[1;34m\"\\\"\"\u001b[0m \u001b[1;33m+\u001b[0m \u001b[1;34m\";\"\u001b[0m  \u001b[1;33m+\u001b[0m \u001b[1;34m\"\\\"\"\u001b[0m \u001b[1;33m+\u001b[0m \u001b[0mtitle_text\u001b[0m \u001b[1;33m+\u001b[0m \u001b[1;34m\"\\\"\"\u001b[0m \u001b[1;33m+\u001b[0m \u001b[1;34m\";\"\u001b[0m  \u001b[1;33m+\u001b[0m  \u001b[1;34m\"\\\"\"\u001b[0m \u001b[1;33m+\u001b[0m \u001b[0mmodel_text\u001b[0m \u001b[1;33m+\u001b[0m \u001b[1;34m\"\\\"\"\u001b[0m\u001b[1;33m+\u001b[0m \u001b[1;34m\";\"\u001b[0m  \u001b[1;33m+\u001b[0m \u001b[1;34m\"\\\"\"\u001b[0m \u001b[1;33m+\u001b[0m \u001b[0mstart_date\u001b[0m \u001b[1;33m+\u001b[0m \u001b[1;34m\"\\\"\"\u001b[0m\u001b[1;33m+\u001b[0m \u001b[1;34m\";\"\u001b[0m  \u001b[1;33m+\u001b[0m \u001b[1;34m\"\\\"\"\u001b[0m \u001b[1;33m+\u001b[0m \u001b[0mcompletion_date\u001b[0m \u001b[1;33m+\u001b[0m \u001b[1;34m\"\\\"\"\u001b[0m\u001b[1;33m\u001b[0m\u001b[1;33m\u001b[0m\u001b[0m\n\u001b[0m\u001b[0;32m     35\u001b[0m     \u001b[1;31m# This functions returns a text with Nct_Id, brief_summary, title and type of intervention model on the form we intended\u001b[0m\u001b[1;33m\u001b[0m\u001b[1;33m\u001b[0m\u001b[0m\n\u001b[0;32m     36\u001b[0m     \u001b[1;32mreturn\u001b[0m \u001b[0mtotal_text\u001b[0m\u001b[1;33m\u001b[0m\u001b[1;33m\u001b[0m\u001b[0m\n",
      "\u001b[1;31mUnboundLocalError\u001b[0m: local variable 'completion_date' referenced before assignment"
     ]
    }
   ],
   "source": [
    "rdir = \"Downloads\\\\search_result (1)\"# Folders in directory where the all the xml files are placed\n",
    "with open('train_data.csv', 'w', encoding=\"utf-8\") as csvfile: \n",
    "    for root, dirs, files in os.walk(rdir):\n",
    "        for filename in files:\n",
    "            name = os.path.join(root, filename)\n",
    "            csvfile.write(csv_row(name)) #Writes total_text into a row in to train_data.csv\n",
    "            csvfile.write(\"\\n\") # Skips to next line and do the same"
   ]
  },
  {
   "cell_type": "code",
   "execution_count": 4,
   "id": "0f63618a",
   "metadata": {},
   "outputs": [
    {
     "ename": "ValueError",
     "evalue": "Length mismatch: Expected axis has 4 elements, new values have 6 elements",
     "output_type": "error",
     "traceback": [
      "\u001b[1;31m---------------------------------------------------------------------------\u001b[0m",
      "\u001b[1;31mValueError\u001b[0m                                Traceback (most recent call last)",
      "\u001b[1;32m~\\AppData\\Local\\Temp\\ipykernel_13572\\1409909244.py\u001b[0m in \u001b[0;36m<module>\u001b[1;34m\u001b[0m\n\u001b[0;32m      2\u001b[0m \u001b[0mdf\u001b[0m \u001b[1;33m=\u001b[0m \u001b[0mpd\u001b[0m\u001b[1;33m.\u001b[0m\u001b[0mread_csv\u001b[0m\u001b[1;33m(\u001b[0m\u001b[1;34m\"train_data.csv\"\u001b[0m\u001b[1;33m,\u001b[0m \u001b[0msep\u001b[0m\u001b[1;33m=\u001b[0m\u001b[1;34m';'\u001b[0m\u001b[1;33m,\u001b[0m \u001b[0mheader\u001b[0m\u001b[1;33m=\u001b[0m\u001b[1;32mNone\u001b[0m\u001b[1;33m,\u001b[0m\u001b[0merror_bad_lines\u001b[0m\u001b[1;33m=\u001b[0m\u001b[1;32mFalse\u001b[0m\u001b[1;33m,\u001b[0m \u001b[0mwarn_bad_lines\u001b[0m\u001b[1;33m=\u001b[0m\u001b[1;32mFalse\u001b[0m\u001b[1;33m)\u001b[0m\u001b[1;33m\u001b[0m\u001b[1;33m\u001b[0m\u001b[0m\n\u001b[0;32m      3\u001b[0m \u001b[1;31m# Give the data sets appropiate column names\u001b[0m\u001b[1;33m\u001b[0m\u001b[1;33m\u001b[0m\u001b[0m\n\u001b[1;32m----> 4\u001b[1;33m \u001b[0mdf\u001b[0m\u001b[1;33m.\u001b[0m\u001b[0mcolumns\u001b[0m \u001b[1;33m=\u001b[0m  \u001b[1;33m[\u001b[0m\u001b[1;34m'Nct_id'\u001b[0m\u001b[1;33m,\u001b[0m \u001b[1;34m'Summary'\u001b[0m\u001b[1;33m,\u001b[0m \u001b[1;34m'Title'\u001b[0m\u001b[1;33m,\u001b[0m\u001b[1;34m'Model'\u001b[0m\u001b[1;33m,\u001b[0m\u001b[1;34m'Start Date'\u001b[0m\u001b[1;33m,\u001b[0m\u001b[1;34m'End Date'\u001b[0m\u001b[1;33m]\u001b[0m\u001b[1;33m\u001b[0m\u001b[1;33m\u001b[0m\u001b[0m\n\u001b[0m\u001b[0;32m      5\u001b[0m \u001b[1;31m# We drop all the observations containing NaN's (missing values)\u001b[0m\u001b[1;33m\u001b[0m\u001b[1;33m\u001b[0m\u001b[0m\n\u001b[0;32m      6\u001b[0m \u001b[0mtrain\u001b[0m \u001b[1;33m=\u001b[0m \u001b[0mdf\u001b[0m\u001b[1;33m.\u001b[0m\u001b[0mdropna\u001b[0m\u001b[1;33m(\u001b[0m\u001b[1;33m)\u001b[0m\u001b[1;33m\u001b[0m\u001b[1;33m\u001b[0m\u001b[0m\n",
      "\u001b[1;32m~\\anaconda3\\lib\\site-packages\\pandas\\core\\generic.py\u001b[0m in \u001b[0;36m__setattr__\u001b[1;34m(self, name, value)\u001b[0m\n\u001b[0;32m   5586\u001b[0m         \u001b[1;32mtry\u001b[0m\u001b[1;33m:\u001b[0m\u001b[1;33m\u001b[0m\u001b[1;33m\u001b[0m\u001b[0m\n\u001b[0;32m   5587\u001b[0m             \u001b[0mobject\u001b[0m\u001b[1;33m.\u001b[0m\u001b[0m__getattribute__\u001b[0m\u001b[1;33m(\u001b[0m\u001b[0mself\u001b[0m\u001b[1;33m,\u001b[0m \u001b[0mname\u001b[0m\u001b[1;33m)\u001b[0m\u001b[1;33m\u001b[0m\u001b[1;33m\u001b[0m\u001b[0m\n\u001b[1;32m-> 5588\u001b[1;33m             \u001b[1;32mreturn\u001b[0m \u001b[0mobject\u001b[0m\u001b[1;33m.\u001b[0m\u001b[0m__setattr__\u001b[0m\u001b[1;33m(\u001b[0m\u001b[0mself\u001b[0m\u001b[1;33m,\u001b[0m \u001b[0mname\u001b[0m\u001b[1;33m,\u001b[0m \u001b[0mvalue\u001b[0m\u001b[1;33m)\u001b[0m\u001b[1;33m\u001b[0m\u001b[1;33m\u001b[0m\u001b[0m\n\u001b[0m\u001b[0;32m   5589\u001b[0m         \u001b[1;32mexcept\u001b[0m \u001b[0mAttributeError\u001b[0m\u001b[1;33m:\u001b[0m\u001b[1;33m\u001b[0m\u001b[1;33m\u001b[0m\u001b[0m\n\u001b[0;32m   5590\u001b[0m             \u001b[1;32mpass\u001b[0m\u001b[1;33m\u001b[0m\u001b[1;33m\u001b[0m\u001b[0m\n",
      "\u001b[1;32m~\\anaconda3\\lib\\site-packages\\pandas\\_libs\\properties.pyx\u001b[0m in \u001b[0;36mpandas._libs.properties.AxisProperty.__set__\u001b[1;34m()\u001b[0m\n",
      "\u001b[1;32m~\\anaconda3\\lib\\site-packages\\pandas\\core\\generic.py\u001b[0m in \u001b[0;36m_set_axis\u001b[1;34m(self, axis, labels)\u001b[0m\n\u001b[0;32m    767\u001b[0m     \u001b[1;32mdef\u001b[0m \u001b[0m_set_axis\u001b[0m\u001b[1;33m(\u001b[0m\u001b[0mself\u001b[0m\u001b[1;33m,\u001b[0m \u001b[0maxis\u001b[0m\u001b[1;33m:\u001b[0m \u001b[0mint\u001b[0m\u001b[1;33m,\u001b[0m \u001b[0mlabels\u001b[0m\u001b[1;33m:\u001b[0m \u001b[0mIndex\u001b[0m\u001b[1;33m)\u001b[0m \u001b[1;33m->\u001b[0m \u001b[1;32mNone\u001b[0m\u001b[1;33m:\u001b[0m\u001b[1;33m\u001b[0m\u001b[1;33m\u001b[0m\u001b[0m\n\u001b[0;32m    768\u001b[0m         \u001b[0mlabels\u001b[0m \u001b[1;33m=\u001b[0m \u001b[0mensure_index\u001b[0m\u001b[1;33m(\u001b[0m\u001b[0mlabels\u001b[0m\u001b[1;33m)\u001b[0m\u001b[1;33m\u001b[0m\u001b[1;33m\u001b[0m\u001b[0m\n\u001b[1;32m--> 769\u001b[1;33m         \u001b[0mself\u001b[0m\u001b[1;33m.\u001b[0m\u001b[0m_mgr\u001b[0m\u001b[1;33m.\u001b[0m\u001b[0mset_axis\u001b[0m\u001b[1;33m(\u001b[0m\u001b[0maxis\u001b[0m\u001b[1;33m,\u001b[0m \u001b[0mlabels\u001b[0m\u001b[1;33m)\u001b[0m\u001b[1;33m\u001b[0m\u001b[1;33m\u001b[0m\u001b[0m\n\u001b[0m\u001b[0;32m    770\u001b[0m         \u001b[0mself\u001b[0m\u001b[1;33m.\u001b[0m\u001b[0m_clear_item_cache\u001b[0m\u001b[1;33m(\u001b[0m\u001b[1;33m)\u001b[0m\u001b[1;33m\u001b[0m\u001b[1;33m\u001b[0m\u001b[0m\n\u001b[0;32m    771\u001b[0m \u001b[1;33m\u001b[0m\u001b[0m\n",
      "\u001b[1;32m~\\anaconda3\\lib\\site-packages\\pandas\\core\\internals\\managers.py\u001b[0m in \u001b[0;36mset_axis\u001b[1;34m(self, axis, new_labels)\u001b[0m\n\u001b[0;32m    212\u001b[0m     \u001b[1;32mdef\u001b[0m \u001b[0mset_axis\u001b[0m\u001b[1;33m(\u001b[0m\u001b[0mself\u001b[0m\u001b[1;33m,\u001b[0m \u001b[0maxis\u001b[0m\u001b[1;33m:\u001b[0m \u001b[0mint\u001b[0m\u001b[1;33m,\u001b[0m \u001b[0mnew_labels\u001b[0m\u001b[1;33m:\u001b[0m \u001b[0mIndex\u001b[0m\u001b[1;33m)\u001b[0m \u001b[1;33m->\u001b[0m \u001b[1;32mNone\u001b[0m\u001b[1;33m:\u001b[0m\u001b[1;33m\u001b[0m\u001b[1;33m\u001b[0m\u001b[0m\n\u001b[0;32m    213\u001b[0m         \u001b[1;31m# Caller is responsible for ensuring we have an Index object.\u001b[0m\u001b[1;33m\u001b[0m\u001b[1;33m\u001b[0m\u001b[0m\n\u001b[1;32m--> 214\u001b[1;33m         \u001b[0mself\u001b[0m\u001b[1;33m.\u001b[0m\u001b[0m_validate_set_axis\u001b[0m\u001b[1;33m(\u001b[0m\u001b[0maxis\u001b[0m\u001b[1;33m,\u001b[0m \u001b[0mnew_labels\u001b[0m\u001b[1;33m)\u001b[0m\u001b[1;33m\u001b[0m\u001b[1;33m\u001b[0m\u001b[0m\n\u001b[0m\u001b[0;32m    215\u001b[0m         \u001b[0mself\u001b[0m\u001b[1;33m.\u001b[0m\u001b[0maxes\u001b[0m\u001b[1;33m[\u001b[0m\u001b[0maxis\u001b[0m\u001b[1;33m]\u001b[0m \u001b[1;33m=\u001b[0m \u001b[0mnew_labels\u001b[0m\u001b[1;33m\u001b[0m\u001b[1;33m\u001b[0m\u001b[0m\n\u001b[0;32m    216\u001b[0m \u001b[1;33m\u001b[0m\u001b[0m\n",
      "\u001b[1;32m~\\anaconda3\\lib\\site-packages\\pandas\\core\\internals\\base.py\u001b[0m in \u001b[0;36m_validate_set_axis\u001b[1;34m(self, axis, new_labels)\u001b[0m\n\u001b[0;32m     67\u001b[0m \u001b[1;33m\u001b[0m\u001b[0m\n\u001b[0;32m     68\u001b[0m         \u001b[1;32melif\u001b[0m \u001b[0mnew_len\u001b[0m \u001b[1;33m!=\u001b[0m \u001b[0mold_len\u001b[0m\u001b[1;33m:\u001b[0m\u001b[1;33m\u001b[0m\u001b[1;33m\u001b[0m\u001b[0m\n\u001b[1;32m---> 69\u001b[1;33m             raise ValueError(\n\u001b[0m\u001b[0;32m     70\u001b[0m                 \u001b[1;34mf\"Length mismatch: Expected axis has {old_len} elements, new \"\u001b[0m\u001b[1;33m\u001b[0m\u001b[1;33m\u001b[0m\u001b[0m\n\u001b[0;32m     71\u001b[0m                 \u001b[1;34mf\"values have {new_len} elements\"\u001b[0m\u001b[1;33m\u001b[0m\u001b[1;33m\u001b[0m\u001b[0m\n",
      "\u001b[1;31mValueError\u001b[0m: Length mismatch: Expected axis has 4 elements, new values have 6 elements"
     ]
    }
   ],
   "source": [
    "# Earlier we saw that the returned text from our function was seperated by ';', so we use this as seperator when reading in the files\n",
    "df = pd.read_csv(\"train_data.csv\", sep=';', header=None,error_bad_lines=False, warn_bad_lines=False)\n",
    "# Give the data sets appropiate column names\n",
    "df.columns =  ['Nct_id', 'Summary', 'Title','Model','Start Date','End Date']\n",
    "# We drop all the observations containing NaN's (missing values)\n",
    "train = df.dropna()\n",
    "for i,row in train.iterrows():\n",
    "    if(\"\\r\\n\" in row['Summary']):\n",
    "        row['Summary'] = row['Summary'].replace(\"\\r\\n\", '')\n",
    "print(train)"
   ]
  },
  {
   "cell_type": "code",
   "execution_count": 5,
   "id": "d5b88fae",
   "metadata": {},
   "outputs": [],
   "source": [
    "X = train.drop(['Model'], axis=1)\n",
    "Y = train.drop(['Nct_id','Summary','Title'], axis = 1)\n",
    "X_train, X_test, Y_train, Y_test = train_test_split(X,Y, test_size=0.2)"
   ]
  },
  {
   "cell_type": "code",
   "execution_count": 6,
   "id": "f674cd89",
   "metadata": {},
   "outputs": [
    {
     "name": "stdout",
     "output_type": "stream",
     "text": [
      "                        Model  Model_type\n",
      "8057      Parallel Assignment           2\n",
      "7177  Single Group Assignment           3\n",
      "6651  Single Group Assignment           3\n",
      "4648  Single Group Assignment           3\n",
      "4892  Single Group Assignment           3\n",
      "(6243, 3)\n",
      "(6243, 2)\n",
      "(1561, 3)\n",
      "(1561, 2)\n"
     ]
    }
   ],
   "source": [
    "# We want 4 categories: Crossover, Parallel, Single Group and Other\n",
    "Y_train.loc[(Y_train['Model'] == 'Factorial Assignment'), 'Model'] = 'Other'\n",
    "Y_train.loc[(Y_train['Model'] == 'Sequential Assignment'), 'Model'] = 'Other'\n",
    "Y_test.loc[(Y_test['Model'] == 'Factorial Assignment'), 'Model'] = 'Other'\n",
    "Y_test.loc[(Y_test['Model'] == 'Sequential Assignment'), 'Model'] = 'Other'\n",
    "# Convert from object to category\n",
    "Y_train['Model'] = Y_train['Model'].astype('category')\n",
    "Y_test['Model'] = Y_test['Model'].astype('category')\n",
    "#Label encoding\n",
    "Y_train[\"Model_type\"] = Y_train[\"Model\"].cat.codes\n",
    "Y_test[\"Model_type\"] = Y_test[\"Model\"].cat.codes\n",
    "print(Y_train.head()) # Prints the first 5 rows of the data\n",
    "print(X_train.shape)\n",
    "print(Y_train.shape)\n",
    "print(X_test.shape)\n",
    "print(Y_test.shape)"
   ]
  },
  {
   "cell_type": "code",
   "execution_count": 7,
   "id": "cc836d39",
   "metadata": {},
   "outputs": [
    {
     "data": {
      "image/png": "[encoded data removed]",
      "text/plain": [
       "<Figure size 640x480 with 1 Axes>"
      ]
     },
     "metadata": {},
     "output_type": "display_data"
    }
   ],
   "source": [
    "import seaborn as sns\n",
    "sns.set(style=\"darkgrid\")\n",
    "ax1 = sns.countplot(x=\"Model\", data=Y_train, order = Y_train['Model'].value_counts().index)\n",
    "ax1.set_title(\"Barplot for types of Intervention models\")\n",
    "for item in ax1.get_xticklabels():\n",
    "    item.set_rotation(45)"
   ]
  },
  {
   "cell_type": "code",
   "execution_count": 8,
   "id": "6e501fbe",
   "metadata": {},
   "outputs": [
    {
     "name": "stdout",
     "output_type": "stream",
     "text": [
      "      Model_type  Model_Crossover Assignment  Model_Other  \\\n",
      "8057           2                           0            0   \n",
      "7177           3                           0            0   \n",
      "6651           3                           0            0   \n",
      "4648           3                           0            0   \n",
      "4892           3                           0            0   \n",
      "...          ...                         ...          ...   \n",
      "8273           1                           0            1   \n",
      "3756           3                           0            0   \n",
      "8749           3                           0            0   \n",
      "1826           0                           1            0   \n",
      "3686           3                           0            0   \n",
      "\n",
      "      Model_Parallel Assignment  Model_Single Group Assignment  \n",
      "8057                          1                              0  \n",
      "7177                          0                              1  \n",
      "6651                          0                              1  \n",
      "4648                          0                              1  \n",
      "4892                          0                              1  \n",
      "...                         ...                            ...  \n",
      "8273                          0                              0  \n",
      "3756                          0                              1  \n",
      "8749                          0                              1  \n",
      "1826                          0                              0  \n",
      "3686                          0                              1  \n",
      "\n",
      "[6243 rows x 5 columns]\n",
      "Train shape: (6243, 5)\n",
      "Test shape: (1561, 5)\n"
     ]
    }
   ],
   "source": [
    "# One Hot Encoding\n",
    "train_dummy = pd.get_dummies(Y_train, columns=['Model'], prefix =['Model'])\n",
    "test_dummy = pd.get_dummies(Y_test, columns=['Model'], prefix =['Model'])\n",
    "print(train_dummy)\n",
    "print(\"Train shape:\",train_dummy.shape)\n",
    "print(\"Test shape:\",test_dummy.shape)"
   ]
  },
  {
   "cell_type": "code",
   "execution_count": 9,
   "id": "4bf512bc",
   "metadata": {},
   "outputs": [
    {
     "name": "stderr",
     "output_type": "stream",
     "text": [
      "[nltk_data] Downloading package wordnet to\n",
      "[nltk_data]     C:\\Users\\jeffr\\AppData\\Roaming\\nltk_data...\n",
      "[nltk_data]   Package wordnet is already up-to-date!\n",
      "[nltk_data] Downloading package omw-1.4 to\n",
      "[nltk_data]     C:\\Users\\jeffr\\AppData\\Roaming\\nltk_data...\n",
      "[nltk_data]   Package omw-1.4 is already up-to-date!\n"
     ]
    },
    {
     "data": {
      "text/plain": [
       "True"
      ]
     },
     "execution_count": 9,
     "metadata": {},
     "output_type": "execute_result"
    }
   ],
   "source": [
    "import nltk\n",
    "nltk.download(\"wordnet\")\n",
    "nltk.download('omw-1.4')"
   ]
  },
  {
   "cell_type": "code",
   "execution_count": 10,
   "id": "2df9dccf",
   "metadata": {},
   "outputs": [],
   "source": [
    "# This needs to be download for the lemmatization (converting to base form)\n",
    "def text_cleaner(dataframe_org):\n",
    "    dataframe = dataframe_org.copy()\n",
    "    columns = ['Summary', 'Title']\n",
    "    for col in columns:\n",
    "        dataframe[col] = dataframe[col].str.translate(str.maketrans(' ', ' ', string.punctuation)) # Remove punctuation\n",
    "        dataframe[col] = dataframe[col].str.translate(str.maketrans(' ', ' ', '\\n')) # Remove newlines\n",
    "        dataframe[col] =dataframe[col].str.translate(str.maketrans(' ', ' ', digits)) # Remove digits\n",
    "        dataframe[col] =dataframe[col].apply(lambda tweet: re.sub(r'([a-z])([A-Z])',r'\\1 \\2',tweet)) # Split combined words\n",
    "        dataframe[col] =dataframe[col].str.lower() # Convert to lowercase\n",
    "        dataframe[col] =dataframe[col].str.split() # Split each sentence using delimiter\n",
    "    # This part is for converting to base form\n",
    "    lemmatizer = WordNetLemmatizer()\n",
    "    sum_l=[]\n",
    "    tit_l = []\n",
    "    for y in tqdm(dataframe[columns[0]]): # tqdm is just a progress bar, an this loop only looks at summaries\n",
    "        sum_new=[]\n",
    "        for x in y: # Looks at words in every summary text\n",
    "            z=lemmatizer.lemmatize(x)\n",
    "            z=lemmatizer.lemmatize(z,'v') # The v specifies that it is in doubt of example a word is a noun or verb, it would consider it a verb.\n",
    "            sum_new.append(z)\n",
    "        y = sum_new\n",
    "        sum_l.append(y)\n",
    "    for w in tqdm(dataframe[columns[1]]): # Looks at titles\n",
    "        tit_new=[]\n",
    "        for x in w: # Every word in the titles\n",
    "            z=lemmatizer.lemmatize(x)\n",
    "            z=lemmatizer.lemmatize(z,'v')\n",
    "            tit_new.append(z)\n",
    "        w = tit_new\n",
    "        tit_l.append(w)\n",
    "    # This will join the words into strings as in the original data, just pre-processed and put into list\n",
    "    sum_l2 = []\n",
    "    for col in sum_l:\n",
    "        col = ' '.join(col)\n",
    "        sum_l2.append(col)\n",
    "    tit_l2 = []\n",
    "    for col in tit_l:\n",
    "        col = ' '.join(col)\n",
    "        tit_l2.append(col)\n",
    "    # Data obtained after Lemmatization is in array form, and is converted to Dataframe in the next step.\n",
    "    sum_data=pd.DataFrame(np.array(sum_l2), index=dataframe.index,columns={columns[0]})\n",
    "    tit_data=pd.DataFrame(np.array(tit_l2), index=dataframe.index,columns={columns[1]})\n",
    "    frames = [sum_data, tit_data]\n",
    "    merged = pd.concat(frames, axis=1)\n",
    "    return merged\n",
    "def create_tok(train_data, MAX_FEATURES):\n",
    "    clean_data = text_cleaner(train_data)\n",
    "    tokenizer_sum = text.Tokenizer(num_words=MAX_FEATURES) # Keep the 20.000 most frequent words\n",
    "    tokenizer_tit =  text.Tokenizer(num_words=MAX_FEATURES)\n",
    "    # Summary Text\n",
    "    summary_list = clean_data['Summary']\n",
    "    tokenizer_sum.fit_on_texts(list(summary_list)) # Builds the word index\n",
    "    #Title Text\n",
    "    title_list = clean_data['Title'] # Text from Title\n",
    "    tokenizer_tit.fit_on_texts(list(title_list))\n",
    "    return tokenizer_sum, tokenizer_tit\n",
    "def pre_process(dataframe, tokenizer, col, MAXLEN):\n",
    "    clean_data = text_cleaner(dataframe)\n",
    "    tokenized_list = tokenizer.texts_to_sequences(clean_data[col])\n",
    "    X = sequence.pad_sequences(tokenized_list, maxlen=MAXLEN)\n",
    "    return X"
   ]
  },
  {
   "cell_type": "code",
   "execution_count": 30,
   "id": "0bcc43ae",
   "metadata": {},
   "outputs": [
    {
     "name": "stderr",
     "output_type": "stream",
     "text": [
      "100%|████████████████████████████████████████████████████████████████████████████| 6243/6243 [00:01<00:00, 3384.02it/s]\n",
      "100%|███████████████████████████████████████████████████████████████████████████| 6243/6243 [00:00<00:00, 17552.40it/s]\n",
      "100%|████████████████████████████████████████████████████████████████████████████| 6243/6243 [00:01<00:00, 3380.67it/s]\n",
      "100%|███████████████████████████████████████████████████████████████████████████| 6243/6243 [00:00<00:00, 17386.61it/s]\n",
      "100%|████████████████████████████████████████████████████████████████████████████| 6243/6243 [00:01<00:00, 3383.59it/s]\n",
      "100%|███████████████████████████████████████████████████████████████████████████| 6243/6243 [00:00<00:00, 17279.30it/s]\n"
     ]
    },
    {
     "name": "stdout",
     "output_type": "stream",
     "text": [
      "[[   0    0    0 ...   70    3 1357]\n",
      " [   0    0    0 ...   10    3  147]\n",
      " [   0    0    0 ...    5    1   26]\n",
      " ...\n",
      " [  30    3  527 ...   10   33  399]\n",
      " [   0    0    0 ...    7  562    9]\n",
      " [   0    0    0 ...    4 3113  378]]\n",
      "[[   0    0    0 ...    2  133 1168]\n",
      " [   0    0    0 ...  461    1  478]\n",
      " [   0    0    0 ...   99 1004    3]\n",
      " ...\n",
      " [   0    0    0 ...    1   50    3]\n",
      " [   0    0    0 ...    2  221    3]\n",
      " [   0    0    0 ...   11   42    3]]\n"
     ]
    },
    {
     "name": "stderr",
     "output_type": "stream",
     "text": [
      "100%|████████████████████████████████████████████████████████████████████████████| 1561/1561 [00:00<00:00, 3466.01it/s]\n",
      "100%|███████████████████████████████████████████████████████████████████████████| 1561/1561 [00:00<00:00, 17399.91it/s]\n",
      "100%|████████████████████████████████████████████████████████████████████████████| 1561/1561 [00:00<00:00, 3300.81it/s]\n",
      "100%|███████████████████████████████████████████████████████████████████████████| 1561/1561 [00:00<00:00, 16728.90it/s]\n"
     ]
    }
   ],
   "source": [
    "MAX_FEATURES = 20000 # Size of vocabluary\n",
    "MAXLEN = 220 # Size of each text sequence, you can tune this depending on the mean length of you text sequences\n",
    "tok_sum, tok_tit = create_tok(X_train,MAX_FEATURES )\n",
    "# The following are used for model.fit\n",
    "X_sum = pre_process(X_train, tok_sum, 'Summary', MAXLEN)\n",
    "X_tit = pre_process(X_train, tok_tit, 'Title', MAXLEN)\n",
    "print(X_sum)\n",
    "print(X_tit)\n",
    "# This is used for prediction\n",
    "X_sum_test = pre_process(X_test, tok_sum, 'Summary', MAXLEN)\n",
    "X_tit_test = pre_process(X_test, tok_tit, 'Title', MAXLEN)\n",
    "list_classes = [\"Model_Crossover Assignment\", \"Model_Other\", \"Model_Parallel Assignment\", \"Model_Single Group Assignment\"] # The 4 categories\n",
    "y = train_dummy[list_classes].values\n",
    "# y_test is used for model.evaluate later on\n",
    "y_test = test_dummy[list_classes].values"
   ]
  },
  {
   "cell_type": "code",
   "execution_count": 31,
   "id": "0c8a0896",
   "metadata": {},
   "outputs": [
    {
     "name": "stdout",
     "output_type": "stream",
     "text": [
      "Model: \"model_2\"\n",
      "__________________________________________________________________________________________________\n",
      " Layer (type)                   Output Shape         Param #     Connected to                     \n",
      "==================================================================================================\n",
      " input_5 (InputLayer)           [(None, 220)]        0           []                               \n",
      "                                                                                                  \n",
      " input_6 (InputLayer)           [(None, 220)]        0           []                               \n",
      "                                                                                                  \n",
      " concatenate_2 (Concatenate)    (None, 440)          0           ['input_5[0][0]',                \n",
      "                                                                  'input_6[0][0]']                \n",
      "                                                                                                  \n",
      " embedding_2 (Embedding)        (None, 440, 50)      1000000     ['concatenate_2[0][0]']          \n",
      "                                                                                                  \n",
      " lstm_2 (LSTM)                  (None, 50)           20200       ['embedding_2[0][0]']            \n",
      "                                                                                                  \n",
      " dropout_4 (Dropout)            (None, 50)           0           ['lstm_2[0][0]']                 \n",
      "                                                                                                  \n",
      " dense_4 (Dense)                (None, 50)           2550        ['dropout_4[0][0]']              \n",
      "                                                                                                  \n",
      " dropout_5 (Dropout)            (None, 50)           0           ['dense_4[0][0]']                \n",
      "                                                                                                  \n",
      " batch_normalization_2 (BatchNo  (None, 50)          200         ['dropout_5[0][0]']              \n",
      " rmalization)                                                                                     \n",
      "                                                                                                  \n",
      " dense_5 (Dense)                (None, 4)            204         ['batch_normalization_2[0][0]']  \n",
      "                                                                                                  \n",
      "==================================================================================================\n",
      "Total params: 1,023,154\n",
      "Trainable params: 1,023,054\n",
      "Non-trainable params: 100\n",
      "__________________________________________________________________________________________________\n"
     ]
    }
   ],
   "source": [
    "def get_con_model():\n",
    "    embed_size = 50 # How big  each word vector should be\n",
    "    inp_sum = Input(shape=(MAXLEN, ))\n",
    "    inp_title = Input(shape=(MAXLEN, ))\n",
    "    total_inp = concatenate([inp_sum, inp_title]) # Merge the 2 inputs\n",
    "    embed_layer = Embedding(MAX_FEATURES, embed_size)(total_inp)\n",
    "    lstm_layer = LSTM(50)(embed_layer)\n",
    "    layer1 = Dropout(0.1)(lstm_layer) # Regularization method, has the effect of reducing overfitting\n",
    "    layer2 = Dense(50, activation=\"relu\")(layer1) # The relu function can return very large values\n",
    "    layer3 =  Dropout(0.1)(layer2) # Again regularization\n",
    "    layer4 =BatchNormalization()(layer3) # Maintains the mean activation close to 0 and the activation standard deviation close to 1\n",
    "    layer5 = Dense(4, activation=\"softmax\")(layer4) # Only outputs values between 0 and 1, this is the final layer\n",
    "    model_con = Model(inputs=[inp_sum,inp_title], outputs=layer5)\n",
    "    model_con.compile(loss='categorical_crossentropy', # This is the loss function, and this type of function is used when solving categorical classification\n",
    "                    optimizer='rmsprop', # Algorithm that update network weights iterative based in training data\n",
    "                    metrics=['accuracy']) # This is our statistical measure\n",
    "    return model_con\n",
    "con_model = get_con_model()\n",
    "# Gets informations about the layers in the model, including output, input and number of parameters:\n",
    "con_model.summary()"
   ]
  },
  {
   "cell_type": "code",
   "execution_count": null,
   "id": "fa66d31a",
   "metadata": {},
   "outputs": [
    {
     "name": "stdout",
     "output_type": "stream",
     "text": [
      "Epoch 1/10\n",
      "\n",
      "Epoch 1: val_loss improved from inf to 0.80971, saving model to weights_base.hdf5\n",
      "176/176 - 13s - loss: 0.9524 - accuracy: 0.6346 - val_loss: 0.8097 - val_accuracy: 0.6112 - 13s/epoch - 77ms/step\n",
      "Epoch 2/10\n"
     ]
    }
   ],
   "source": [
    "batch_size = 32 # number of samples that will be propagated through the network.\n",
    "epochs = 10 # Number of passes over the entire data set\n",
    "file_path=\"weights_base.hdf5\"\n",
    "checkpoint = ModelCheckpoint(file_path, monitor='val_loss', verbose=1, save_best_only=True, mode='min') # Verbose means that it prints acc and loss\n",
    "early = EarlyStopping(monitor=\"val_loss\", mode=\"min\", patience=3) \n",
    "#EarlyStopping should only be includede when tuning your model\n",
    "callbacks_list = [checkpoint, early]\n",
    "history = con_model.fit([X_sum, X_tit], y, batch_size=batch_size, epochs=epochs, validation_split=0.1, callbacks=callbacks_list, verbose=2) # Model fit"
   ]
  },
  {
   "cell_type": "code",
   "execution_count": null,
   "id": "bdbf1f76",
   "metadata": {},
   "outputs": [],
   "source": [
    "con_model.load_weights(file_path)\n",
    "con_model.evaluate([X_sum_test, X_tit_test], y_test, verbose=2) # Returns loss value and the metric specified, so in this case, model accuracy"
   ]
  },
  {
   "cell_type": "code",
   "execution_count": null,
   "id": "1a865655",
   "metadata": {},
   "outputs": [],
   "source": []
  }
 ],
 "metadata": {
  "kernelspec": {
   "display_name": "Python 3 (ipykernel)",
   "language": "python",
   "name": "python3"
  },
  "language_info": {
   "codemirror_mode": {
    "name": "ipython",
    "version": 3
   },
   "file_extension": ".py",
   "mimetype": "text/x-python",
   "name": "python",
   "nbconvert_exporter": "python",
   "pygments_lexer": "ipython3",
   "version": "3.9.13"
  }
 },
 "nbformat": 4,
 "nbformat_minor": 5
}
